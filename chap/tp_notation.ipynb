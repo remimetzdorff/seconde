{
 "cells": [
  {
   "cell_type": "code",
   "execution_count": 1,
   "metadata": {},
   "outputs": [
    {
     "name": "stdout",
     "output_type": "stream",
     "text": [
      "Populating the interactive namespace from numpy and matplotlib\n"
     ]
    }
   ],
   "source": [
    "%pylab qt\n",
    "%matplotlib inline\n",
    "\n",
    "import pandas"
   ]
  },
  {
   "cell_type": "code",
   "execution_count": 14,
   "metadata": {},
   "outputs": [
    {
     "name": "stdout",
     "output_type": "stream",
     "text": [
      "['Compétences', 'TP1']\n"
     ]
    },
    {
     "data": {
      "text/plain": [
       "array([nan, nan, nan, nan, nan, 'Ramna', 'Elisa', nan, 'Narjes', 'Lea',\n",
       "       nan, 'Noémie', 'Eliott', nan, 'Baptiste', 'Kadiatou', nan, 'Amel',\n",
       "       'Assia', nan, 'Enes', 'Fayçal', nan, 'Jade', 'Eva', nan, 'Amélie',\n",
       "       'Mayélina', nan, 'Soimad', 'Lalie', nan, 'Lysa', 'Ouaffaa', nan,\n",
       "       'Romain', 'Bastien', nan, 'Adriana', 'Sophia', nan, 'Jade', 'Emma',\n",
       "       nan, 'Ludmila', 'Karima', nan, 'Kenza', 'Kadidiatou', nan, 'Mervé',\n",
       "       'Agathe', 'Yenaelle Ysée', 'Chloé'], dtype=object)"
      ]
     },
     "execution_count": 14,
     "metadata": {},
     "output_type": "execute_result"
    }
   ],
   "source": [
    "filename = \"tp_notation.xlsx\"\n",
    "\n",
    "file = pandas.ExcelFile(\"tp_notation.xlsx\")\n",
    "print(file.sheet_names)\n",
    "data = file.parse(\"TP1\").values\n",
    "data[2]"
   ]
  }
 ],
 "metadata": {
  "kernelspec": {
   "display_name": "Python 3",
   "language": "python",
   "name": "python3"
  },
  "language_info": {
   "codemirror_mode": {
    "name": "ipython",
    "version": 3
   },
   "file_extension": ".py",
   "mimetype": "text/x-python",
   "name": "python",
   "nbconvert_exporter": "python",
   "pygments_lexer": "ipython3",
   "version": "3.8.3"
  }
 },
 "nbformat": 4,
 "nbformat_minor": 4
}
