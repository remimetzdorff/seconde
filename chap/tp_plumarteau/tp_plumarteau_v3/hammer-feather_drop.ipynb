{
 "cells": [
  {
   "cell_type": "markdown",
   "metadata": {},
   "source": [
    "# Hammer-Feather Drop\n",
    "\n",
    "Sources:\n",
    "- David Scott drops a falcon feather and a hammer on the moon: https://youtu.be/oYEgdZ3iEKA?t=58\n",
    "- Falling feather and bowling ball in NASA giant vaccuum chamber: https://www.youtube.com/watch?v=Ha0b8n5puJM"
   ]
  },
  {
   "cell_type": "code",
   "execution_count": 1,
   "metadata": {},
   "outputs": [
    {
     "name": "stdout",
     "output_type": "stream",
     "text": [
      "Populating the interactive namespace from numpy and matplotlib\n"
     ]
    }
   ],
   "source": [
    "%pylab qt\n",
    "%matplotlib inline\n",
    "\n",
    "def mysavefig(name):\n",
    "    plt.tight_layout()\n",
    "    plt.savefig(name, dpi=200)"
   ]
  },
  {
   "cell_type": "code",
   "execution_count": 2,
   "metadata": {},
   "outputs": [],
   "source": [
    "def fall_duration(d,g):\n",
    "    return np.sqrt(2*d/g)\n",
    "\n",
    "def position(t,g):\n",
    "    return g*t**2/2\n",
    "\n",
    "g_earth = 9.81 # https://en.wikipedia.org/wiki/Gravity_of_Earth\n",
    "d_earth = 35   # https://www1.grc.nasa.gov/facilities/sec/\n",
    "\n",
    "g_moon  = 1.62 # https://en.wikipedia.org/wiki/Gravitation_of_the_Moon#cite_note-1\n",
    "d_moon  = 1.6  # https://youtu.be/oYEgdZ3iEKA"
   ]
  },
  {
   "cell_type": "code",
   "execution_count": 3,
   "metadata": {},
   "outputs": [
    {
     "data": {
      "image/png": "[encoded data removed]",
      "text/plain": [
       "<Figure size 144x432 with 1 Axes>"
      ]
     },
     "metadata": {
      "needs_background": "light"
     },
     "output_type": "display_data"
    }
   ],
   "source": [
    "d, g = d_earth, g_earth\n",
    "#d, g = d_moon, g_moon\n",
    "T = fall_duration(d,g)\n",
    "t = np.linspace(0,T,7)\n",
    "z1 = position(t,g)\n",
    "z2 = (d-z1)[::-1]\n",
    "z3 = t*d/t.max()\n",
    "\n",
    "z=z1\n",
    "\n",
    "plt.figure(figsize=(2,6))\n",
    "plt.plot(np.zeros(len(z)),z, \"o\")\n",
    "plt.ylabel(\"Distance depuis le point du laché (m)\")\n",
    "plt.gca().set_yticks(z)\n",
    "plt.gca().invert_yaxis()"
   ]
  },
  {
   "cell_type": "code",
   "execution_count": 9,
   "metadata": {},
   "outputs": [
    {
     "name": "stdout",
     "output_type": "stream",
     "text": [
      "[0.0, 0.97, 3.89, 8.75, 15.56, 24.31, 35.0]\n",
      "[0.0, 10.69, 19.44, 26.25, 31.11, 34.03, 35.0]\n",
      "[0.0, 5.83, 11.67, 17.5, 23.33, 29.17, 35.0]\n",
      "[0.0, 0.45, 0.89, 1.34, 1.78, 2.23, 2.67]\n"
     ]
    }
   ],
   "source": [
    "for z in [z1,z2,z3, t]:\n",
    "    readable_z = []\n",
    "    for val in z:\n",
    "        readable_z.append(np.abs(round(val,2)))\n",
    "    print(readable_z)"
   ]
  },
  {
   "cell_type": "code",
   "execution_count": 6,
   "metadata": {},
   "outputs": [
    {
     "data": {
      "text/plain": [
       "array([0.        , 0.44520831, 0.89041663, 1.33562494, 1.78083326,\n",
       "       2.22604157, 2.67124988])"
      ]
     },
     "execution_count": 6,
     "metadata": {},
     "output_type": "execute_result"
    }
   ],
   "source": [
    "t"
   ]
  },
  {
   "cell_type": "code",
   "execution_count": null,
   "metadata": {},
   "outputs": [],
   "source": []
  }
 ],
 "metadata": {
  "kernelspec": {
   "display_name": "Python 3",
   "language": "python",
   "name": "python3"
  },
  "language_info": {
   "codemirror_mode": {
    "name": "ipython",
    "version": 3
   },
   "file_extension": ".py",
   "mimetype": "text/x-python",
   "name": "python",
   "nbconvert_exporter": "python",
   "pygments_lexer": "ipython3",
   "version": "3.8.3"
  }
 },
 "nbformat": 4,
 "nbformat_minor": 4
}
