{
 "cells": [
  {
   "cell_type": "code",
   "execution_count": 1,
   "metadata": {},
   "outputs": [
    {
     "name": "stdout",
     "output_type": "stream",
     "text": [
      "Populating the interactive namespace from numpy and matplotlib\n"
     ]
    }
   ],
   "source": [
    "%pylab qt\n",
    "%matplotlib inline\n",
    "\n",
    "import datetime\n",
    "import astropy.constants as const\n",
    "import sympy as sympy\n",
    "import warnings\n",
    "import pandas\n",
    "from orbital_parameters import *\n",
    "\n",
    "def epoch_to_julian(date):\n",
    "    \"\"\"converts epoch to julian day\"\"\"\n",
    "    J2000 = 2451545.\n",
    "    delta = (date - datetime.datetime(2000, 1, 1, 12))\n",
    "    j     = delta.days + delta.seconds/24/3600\n",
    "    return J2000 + j\n",
    "\n",
    "def mysavefig(name):\n",
    "    plt.tight_layout()\n",
    "    plt.savefig(name, dpi=200)"
   ]
  },
  {
   "cell_type": "code",
   "execution_count": 2,
   "metadata": {},
   "outputs": [],
   "source": [
    "# calculate heliocentric ecliptic coordinates in au\n",
    "def heliocentric_ecliptic_coordinates(datetime, a, e, Omega, omega, i, M0, t0):\n",
    "    \"\"\"\n",
    "    PARAMETERS\n",
    "        datetime: date at which we want to know the position of the comet\n",
    "        a       : semimajor axis of the ellipse in astronomical units\n",
    "        e       : eccentricity\n",
    "        Omega   : longitude of ascending mode in degree\n",
    "        omega   : argument of periapsis in degree\n",
    "        i       : inclinaison in degree\n",
    "        M0      : mean anomaly in degree at epoch\n",
    "        t0      : reference epoch\n",
    "    RETURNS\n",
    "        X,Y and Z heliocentric ecliptic coordinates in au\n",
    "    \"\"\"\n",
    "    \n",
    "    # Convert values in rad, au and julian days\n",
    "    Omega *= np.pi/180\n",
    "    omega *= np.pi/180\n",
    "    i     *= np.pi/180\n",
    "    M0    *= np.pi/180\n",
    "    t0     = epoch_to_julian(t0)\n",
    "    \n",
    "    # other relevant quantities\n",
    "    P = (2*np.pi*np.sqrt((a*const.au)**3/const.G/const.M_sun)).value / 24/3600 # orbital period in days\n",
    "    n = 2*np.pi/P # average motion (average orbital angular speed) in rad per day\n",
    "\n",
    "    # compute mean anomaly in rad at a given date\n",
    "    t = epoch_to_julian(datetime)\n",
    "    M = M0 + n*(t-t0)\n",
    "\n",
    "    # compute excentric anomaly in rad at a given date\n",
    "    x = sympy.Symbol(\"x\")\n",
    "    E = sympy.solvers.nsolve(x - e*sympy.sin(x) - M, x, 1)\n",
    "    E = float(E)\n",
    "\n",
    "    # compute true anomaly in rad at a given date\n",
    "    cos_nu = (np.cos(E) - e) / (1 - e*np.cos(E))\n",
    "    sin_nu = (np.sqrt(1-e**2)*np.sin(E)) / (1 - e*np.cos(E))\n",
    "    tan_nu = (np.sqrt(1-e**2)*np.sin(E)) / (np.cos(E)-e)\n",
    "    tan_demi_nu = np.sqrt((1+e)/(1-e))*np.tan(E/2)\n",
    "    nu = 2*np.arctan(tan_demi_nu)\n",
    "    # checking\n",
    "    ref_str = \"%10.3f %10.3f %10.3f %10.3f\"%(cos_nu, sin_nu, tan_nu, tan_demi_nu)\n",
    "    num_str = \"%10.3f %10.3f %10.3f %10.3f\"%(np.cos(nu), np.sin(nu), np.tan(nu), np.tan(nu/2))\n",
    "    if not (ref_str==num_str):\n",
    "        warnings.warn(\"true_anomaly value not reliable\")\n",
    "\n",
    "    # compute heliocentric distance in au\n",
    "    r = a*(1-e**2) / (1+e*cos_nu)\n",
    "    \n",
    "    # final calculation (might be good to write cos(theta) with cos_nu and sin_nu values)\n",
    "    theta = omega + nu # argument of latitude\n",
    "    X = r * (np.cos(Omega)*np.cos(theta) - np.sin(Omega)*np.sin(theta)*np.cos(i))\n",
    "    Y = r * (np.sin(Omega)*np.cos(theta) + np.cos(Omega)*np.sin(theta)*np.cos(i))\n",
    "    Z = r * np.sin(theta)*np.sin(i)\n",
    "    return X, Y, Z\n",
    "\n",
    "def calculate_orbit(body, start, stop, step):\n",
    "    X,Y,Z = [],[],[]\n",
    "    date = start\n",
    "    while date<stop:\n",
    "        x,y,z = heliocentric_ecliptic_coordinates(date,\n",
    "                                                  a=body[\"a\"],\n",
    "                                                  e=body[\"e\"],\n",
    "                                                  Omega=body[\"Omega\"],\n",
    "                                                  omega=body[\"omega\"],\n",
    "                                                  i=body[\"i\"],\n",
    "                                                  M0=body[\"M0\"],\n",
    "                                                  t0=body[\"t0\"])\n",
    "        date += datetime.timedelta(days=step)\n",
    "        X.append(x)\n",
    "        Y.append(y)\n",
    "        Z.append(z)\n",
    "    return X,Y,Z\n",
    "\n",
    "def plot_orbit(body, start, stop, step, ax, style=None, color=None):\n",
    "    X,Y,Z = calculate_orbit(body, start, stop, step)\n",
    "    if style is None:\n",
    "        style = \"o\"\n",
    "    if color is not None:\n",
    "        ax.plot(X,Y, style, color=color)\n",
    "    else:\n",
    "        ax.plot(X,Y, style)\n",
    "    return X,Y,Z"
   ]
  },
  {
   "cell_type": "markdown",
   "metadata": {},
   "source": [
    "# Create data files"
   ]
  },
  {
   "cell_type": "code",
   "execution_count": 7,
   "metadata": {},
   "outputs": [],
   "source": [
    "for i, body in enumerate([planet_earth, planet_jupiter, comet_tchouri]):\n",
    "    P = body[\"P\"]\n",
    "    name = body[\"name\"]\n",
    "    name_fr = body[\"name_fr\"]\n",
    "    if name == \"earth\":\n",
    "        step_day = 14\n",
    "    elif name == \"tchouri\":\n",
    "        step_day = 49\n",
    "    elif name == \"jupiter\":\n",
    "        step_day = 70\n",
    "    start = datetime.datetime(2021, 1, 1)\n",
    "    next_date = start + datetime.timedelta(days=step_day)\n",
    "    stop  = start+datetime.timedelta(days=P)\n",
    "    X,Y,Z = calculate_orbit(body, start, stop, step_day)\n",
    "    data = pandas.Series(Y, index=X)\n",
    "    filename = body[\"name\"]+\".txt\"\n",
    "    data.to_csv(filename, sep=\"\\t\", header=False)\n",
    "    header_earth = [u\"# fichier \"+filename+\"\\n\",\n",
    "                    u\"############################################################################################\\n\",\n",
    "                    u\"# Positions prevues de la \"+body[\"category_fr\"]+\" \"+name_fr+\" par rapport au Soleil.\\n\",\n",
    "                    u\"# Les donnees sont toutes prises a %d semaines d'intervalle, c'est-a-dire tous les %d jours.\\n\"%(step_day/7, step_day),\n",
    "                    u\"# La premiere ligne correspond au %2d/%2d/%4d, la deuxieme au %2d/%2d/%4d, etc.\\n\"%(start.day, start.month, start.year, next_date.day, next_date.month, next_date.year),\n",
    "                    u\"# Les distances sont exprimees en unite astronomique (au) : 1 au = %9.3e m\\n\"%(const.au.value),\n",
    "                    u\"############################################################################################\\n\"\n",
    "                    ]\n",
    "    with open(filename, \"w\") as f:\n",
    "        f.writelines(header_earth)\n",
    "        x_header = \"x_%s (abscisse)\"%(name_fr.lower())\n",
    "        while len(x_header)<25:\n",
    "            x_header += \" \"\n",
    "        y_header = \"y_%s (ordonnee)\\n\"%(name_fr.lower())\n",
    "        f.write(x_header + y_header)\n",
    "        for x, y in zip(X, Y):\n",
    "            line = \"%6.3f\"%(round(x,3))\n",
    "            while len(line)<len(x_header):\n",
    "                line += \" \"\n",
    "            f.write(line + \"%6.3f\\n\"%(round(y,3)))"
   ]
  },
  {
   "cell_type": "code",
   "execution_count": 8,
   "metadata": {},
   "outputs": [
    {
     "data": {
      "text/plain": [
       "[<matplotlib.lines.Line2D at 0x7fc2307cb940>]"
      ]
     },
     "execution_count": 8,
     "metadata": {},
     "output_type": "execute_result"
    },
    {
     "data": {
      "image/png": "[encoded data removed]",
      "text/plain": [
       "<Figure size 864x576 with 1 Axes>"
      ]
     },
     "metadata": {
      "needs_background": "light"
     },
     "output_type": "display_data"
    }
   ],
   "source": [
    "plt.figure(figsize=(12,8))\n",
    "sps = (1,1)\n",
    "ax = plt.subplot2grid(sps, (0,0))\n",
    "ax.set_aspect(\"equal\")\n",
    "ax.set_xlim(-6,6)\n",
    "ax.set_ylim(-6,6)\n",
    "ax.plot([0],[0], \"*\", color=\"gold\", markersize=20)\n",
    "\n",
    "data_terre = np.loadtxt(\"earth.txt\", skiprows=8)\n",
    "x_terre, y_terre = data_terre[:,0], data_terre[:,1]\n",
    "plt.plot(x_terre, y_terre, \"o\")\n",
    "\n",
    "data_tchouri = np.loadtxt(\"tchouri.txt\", skiprows=8)\n",
    "x_tchouri, y_tchouri = data_tchouri[:,0], data_tchouri[:,1]\n",
    "plt.plot(x_tchouri, y_tchouri, \"o\")\n",
    "\n",
    "data_jupiter = np.loadtxt(\"jupiter.txt\", skiprows=8)\n",
    "x_jupiter, y_jupiter = data_jupiter[:,0], data_jupiter[:,1]\n",
    "plt.plot(x_jupiter, y_jupiter, \"o\")"
   ]
  },
  {
   "cell_type": "code",
   "execution_count": null,
   "metadata": {},
   "outputs": [],
   "source": []
  }
 ],
 "metadata": {
  "kernelspec": {
   "display_name": "Python 3",
   "language": "python",
   "name": "python3"
  },
  "language_info": {
   "codemirror_mode": {
    "name": "ipython",
    "version": 3
   },
   "file_extension": ".py",
   "mimetype": "text/x-python",
   "name": "python",
   "nbconvert_exporter": "python",
   "pygments_lexer": "ipython3",
   "version": "3.8.3"
  }
 },
 "nbformat": 4,
 "nbformat_minor": 4
}
