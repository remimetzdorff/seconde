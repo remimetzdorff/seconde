{
 "cells": [
  {
   "cell_type": "code",
   "execution_count": 6,
   "metadata": {},
   "outputs": [
    {
     "name": "stdout",
     "output_type": "stream",
     "text": [
      "Populating the interactive namespace from numpy and matplotlib\n"
     ]
    },
    {
     "data": {
      "text/plain": [
       "'halley.txt'"
      ]
     },
     "execution_count": 6,
     "metadata": {},
     "output_type": "execute_result"
    }
   ],
   "source": [
    "%pylab inline\n",
    "from celestialbody.celestialbody import CelestialBody\n",
    "import datetime\n",
    "import astropy.constants as const\n",
    "\n",
    "body = CelestialBody(\"Halley\", category=\"comet\")\n",
    "\n",
    "start = datetime.datetime.today()\n",
    "stop  = start + datetime.timedelta(days=2.5*body.period)\n",
    "step  = 1\n",
    "next_date = start+datetime.timedelta(days=step)\n",
    "\n",
    "header = [u\"# fichier \"+body.name.lower()+\".txt\\n\",\n",
    "          u\"############################################################################################\\n\",\n",
    "          u\"# Positions prévues de la comète \"+body.name+\" par rapport au Soleil.\\n\",\n",
    "          u\"# Les données sont prises tous les jours.\\n\",\n",
    "          u\"# La première ligne correspond au %2d/%2d/%4d, la deuxième au %2d/%2d/%4d, etc.\\n\"%(start.day, start.month, start.year, next_date.day, next_date.month, next_date.year),\n",
    "          u\"# Les distances sont exprimées en unité astronomique (au) : 1 au = %9.3e m\\n\"%(const.au.value),                    u\"############################################################################################\\n\"\n",
    "         ]\n",
    "\n",
    "body.data_position_txt(start=start, stop=stop, step=step, header=header)"
   ]
  },
  {
   "cell_type": "code",
   "execution_count": null,
   "metadata": {},
   "outputs": [],
   "source": []
  }
 ],
 "metadata": {
  "kernelspec": {
   "display_name": "Python 3",
   "language": "python",
   "name": "python3"
  },
  "language_info": {
   "codemirror_mode": {
    "name": "ipython",
    "version": 3
   },
   "file_extension": ".py",
   "mimetype": "text/x-python",
   "name": "python",
   "nbconvert_exporter": "python",
   "pygments_lexer": "ipython3",
   "version": "3.8.3"
  }
 },
 "nbformat": 4,
 "nbformat_minor": 4
}
