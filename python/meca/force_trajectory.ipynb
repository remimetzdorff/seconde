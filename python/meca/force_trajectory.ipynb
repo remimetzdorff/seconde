{
 "cells": [
  {
   "cell_type": "code",
   "execution_count": 1,
   "metadata": {},
   "outputs": [
    {
     "name": "stdout",
     "output_type": "stream",
     "text": [
      "Populating the interactive namespace from numpy and matplotlib\n"
     ]
    }
   ],
   "source": [
    "%pylab qt\n",
    "\n",
    "from matplotlib import animation\n",
    "\n",
    "def mysavefig(name):\n",
    "    plt.tight_layout()\n",
    "    plt.savefig(name, bbox_inches=\"tight\", dpi=200)\n",
    "\n",
    "############\n",
    "# Sauvegarde\n",
    "############\n",
    "fps = 25\n",
    "save_format = \"gif\" # None, \"mp4\" ou \"gif\"\n",
    "dpi = 200\n",
    "\n",
    "# writer\n",
    "path = \"\"\n",
    "if save_format == \"mp4\":\n",
    "    Writer = animation.writers['ffmpeg']\n",
    "elif save_format == \"gif\":\n",
    "    # requiert ImageMagick : brew install imagemagick\n",
    "    # make sure the full path for ImageMagick is configured\n",
    "    # to find the path, type in console > which convert\n",
    "    rcParams['animation.convert_path'] = r\"/usr/local/bin/convert\"\n",
    "    Writer = animation.writers['imagemagick']\n",
    "# sauvegarde\n",
    "if save_format is None:\n",
    "    print(\"Choose a export format\")\n",
    "    pass\n",
    "else:\n",
    "    writer = Writer(fps=fps, metadata=dict(artist='Me'), bitrate=1800)"
   ]
  },
  {
   "cell_type": "code",
   "execution_count": 67,
   "metadata": {},
   "outputs": [],
   "source": [
    "fig = plt.figure(figsize=(8,6))\n",
    "ax = plt.subplot2grid((1,1), (0,0))\n",
    "ax.set_aspect(\"equal\")\n",
    "ax.set_xlim(-1,1)\n",
    "ax.set_ylim(-.5,1.2)\n",
    "#plt.axis('off')\n",
    "\n",
    "speed = 1\n",
    "duration = 5\n",
    "\n",
    "vertical_fall = True\n",
    "show_speed = True\n",
    "show_speed_var = True\n",
    "\n",
    "t = np.linspace(-duration/2,duration/2,int(duration*fps))\n",
    "\n",
    "if vertical_fall:\n",
    "    x = np.zeros(len(t))\n",
    "    y = 1 - (2*t/duration) ** 2\n",
    "else:\n",
    "    x = .1*t\n",
    "    y = 1 - (2*t/duration) ** 2\n",
    "\n",
    "ax.plot([-1,1], [0,0], \"-k\")\n",
    "c, = ax.plot([], [], \"oC1\", ms=5)\n",
    "sp = ax.quiver(0, 0, 0, 0, color=\"red\", alpha=1, width=.005, angles='xy', scale_units='xy', scale=1)\n",
    "spv = ax.quiver(0, 0, 0, 0, color=\"blue\", alpha=1, width=.005, angles='xy', scale_units='xy', scale=1)\n",
    "ax.plot(x,y, '.C0', alpha=.1, ms=1)\n",
    "\n",
    "def init():\n",
    "    c.set_data([], [])\n",
    "    return c\n",
    "\n",
    "def animate(i):\n",
    "    c.set_data([x[i]], [y[i]])\n",
    "    if i < len(x) - 2:\n",
    "        u, v = (x[i + 1] - x[i]), (y[i + 1] - y[i])\n",
    "        uv, vv = (x[i+2] - 2*x[i+1] + x[i]), (y[i+2] - 2*y[i+1] + y[i]) \n",
    "        if show_speed:\n",
    "            scale = 20\n",
    "            sp.set_UVC(scale*u, scale*v)\n",
    "            sp.set_offsets((x[i], y[i]))\n",
    "        if show_speed_var:\n",
    "            scale = 500\n",
    "            spv.set_UVC(scale*uv, scale*vv)\n",
    "            spv.set_offsets((x[i], y[i]))\n",
    "    else:\n",
    "        sp.set_offsets((x[i], y[i]))\n",
    "        spv.set_offsets((x[i], y[i]))\n",
    "    return c\n",
    "\n",
    "anim = animation.FuncAnimation(fig, animate, frames=int(fps*duration), interval=1e3 / fps / speed, init_func=init)"
   ]
  },
  {
   "cell_type": "code",
   "execution_count": null,
   "metadata": {},
   "outputs": [],
   "source": []
  }
 ],
 "metadata": {
  "kernelspec": {
   "display_name": "Python 3",
   "language": "python",
   "name": "python3"
  },
  "language_info": {
   "codemirror_mode": {
    "name": "ipython",
    "version": 3
   },
   "file_extension": ".py",
   "mimetype": "text/x-python",
   "name": "python",
   "nbconvert_exporter": "python",
   "pygments_lexer": "ipython3",
   "version": "3.8.3"
  }
 },
 "nbformat": 4,
 "nbformat_minor": 4
}
